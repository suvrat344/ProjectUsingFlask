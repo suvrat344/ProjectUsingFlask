{
 "cells": [
  {
   "cell_type": "markdown",
   "id": "5f808dab-7305-4b68-b88e-7228aa065d03",
   "metadata": {},
   "source": [
    "# 1. Importing Libraries"
   ]
  },
  {
   "cell_type": "code",
   "execution_count": null,
   "id": "2f5389bf-ca51-4828-addd-2378ef2b00ff",
   "metadata": {},
   "outputs": [],
   "source": [
    "import numpy as np\n",
    "import pandas as pd\n",
    "import sklearn\n",
    "from sklearn.impute import SimpleImputer\n",
    "from sklearn.preprocessing import StandardScaler,OneHotEncoder\n",
    "from sklearn.pipeline import Pipeline\n",
    "from sklearn.compose import ColumnTransformer\n",
    "from sklearn.linear_model import LinearRegression\n",
    "from sklearn.svm import SVR\n",
    "from sklearn.ensemble import RandomForestRegressor\n",
    "from sklearn.metrics import r2_score\n",
    "from sklearn.model_selection import learning_curve\n",
    "from feature_engine.datetime import DatetimeFeatures\n",
    "from xgboost import XGBRegressor\n",
    "import joblib\n",
    "import matplotlib.pyplot as plt"
   ]
  },
  {
   "cell_type": "markdown",
   "id": "99f1ed4a-9d72-45a6-bd96-760600975469",
   "metadata": {},
   "source": [
    "# 2. Display Setting"
   ]
  },
  {
   "cell_type": "code",
   "execution_count": null,
   "id": "3e82b7ee-1689-4ab4-b951-08d6dc32e8ab",
   "metadata": {},
   "outputs": [],
   "source": [
    "pd.set_option(\"display.max_columns\",None)"
   ]
  },
  {
   "cell_type": "code",
   "execution_count": null,
   "id": "8bdf40ca-bdeb-4a62-ae0e-27d2609241b3",
   "metadata": {},
   "outputs": [],
   "source": [
    "sklearn.set_config(transform_output=\"default\")"
   ]
  },
  {
   "cell_type": "markdown",
   "id": "7e80eb96-ae44-4b4d-b04a-ae9f9d48894e",
   "metadata": {},
   "source": [
    "# 3. Getting the Data"
   ]
  },
  {
   "cell_type": "code",
   "execution_count": null,
   "id": "d6ba96cc-843e-46e8-a033-c42afb31e34c",
   "metadata": {},
   "outputs": [],
   "source": [
    "train_df = pd.read_csv(\"data/train.csv\")\n",
    "val_df = pd.read_csv(\"data/val.csv\")\n",
    "test_df = pd.read_csv(\"data/test.csv\")"
   ]
  },
  {
   "cell_type": "markdown",
   "id": "ba80b751-ad33-4098-bf80-9bf05e8a0c7e",
   "metadata": {},
   "source": [
    "## 3.1 Split the Data"
   ]
  },
  {
   "cell_type": "code",
   "execution_count": null,
   "id": "e49afc83-bb59-4f02-8608-a583a37e9b8a",
   "metadata": {},
   "outputs": [],
   "source": [
    "def split_data(data):\n",
    "    X = data.drop(columns=[\"price\"])\n",
    "    y = data.price.copy()\n",
    "    return (X,y)"
   ]
  },
  {
   "cell_type": "code",
   "execution_count": null,
   "id": "6646cf2d-1ab1-4907-ae38-ac723c551532",
   "metadata": {},
   "outputs": [],
   "source": [
    "X_train,y_train = split_data(train_df)"
   ]
  },
  {
   "cell_type": "code",
   "execution_count": null,
   "id": "7edc6fd6-7634-4072-b4cc-c0bc3450eb68",
   "metadata": {},
   "outputs": [],
   "source": [
    "X_val,y_val = split_data(val_df)"
   ]
  },
  {
   "cell_type": "code",
   "execution_count": null,
   "id": "14484b32-0708-4cde-a916-d267830e35be",
   "metadata": {},
   "outputs": [],
   "source": [
    "X_test,y_test = split_data(test_df)"
   ]
  },
  {
   "cell_type": "markdown",
   "id": "9b863546-4fdb-4913-a8c0-d7125d9568cb",
   "metadata": {},
   "source": [
    "## 3.2 Meta-Info"
   ]
  },
  {
   "cell_type": "code",
   "execution_count": null,
   "id": "6722824d-ece4-4722-a48d-32123a899b3a",
   "metadata": {},
   "outputs": [],
   "source": [
    "X_train.info()"
   ]
  },
  {
   "cell_type": "markdown",
   "id": "5b8d6440-dc95-49df-b381-2530a86d4f15",
   "metadata": {},
   "source": [
    "# 4. Data Preprocessing"
   ]
  },
  {
   "cell_type": "code",
   "execution_count": null,
   "id": "5b3248a9-b025-4658-acf3-501794117d53",
   "metadata": {},
   "outputs": [],
   "source": [
    "dt_cols = [\"date_of_journey\",\"dep_time\",\"arrival_time\"]\n",
    "num_cols = [\"duration\",\"total_stops\"]\n",
    "cat_cols = [col for col in X_train.columns if (col not in dt_cols) and (col not in num_cols)]"
   ]
  },
  {
   "cell_type": "code",
   "execution_count": null,
   "id": "457a90a9-ec7c-43b5-9e4d-447e438a4fe4",
   "metadata": {},
   "outputs": [],
   "source": [
    "num_transformer = Pipeline(steps=[\n",
    "    (\"imputer\",SimpleImputer(strategy=\"median\")),\n",
    "    (\"scaler\",StandardScaler())\n",
    "])\n",
    "\n",
    "cat_transformer = Pipeline(steps = [\n",
    "    (\"imputer\",SimpleImputer(strategy=\"most_frequent\")),\n",
    "    (\"encoder\",OneHotEncoder(sparse_output=False,handle_unknown=\"ignore\"))\n",
    "])\n",
    "\n",
    "doj_transformer = Pipeline(steps=[\n",
    "    (\"imputer\",SimpleImputer(strategy=\"most_frequent\")),\n",
    "    (\"extractor\",DatetimeFeatures(features_to_extract=[\"month\",\"week\",\"day_of_week\",\"day_of_month\"],format=\"mixed\")),\n",
    "    (\"scaler\",StandardScaler())\n",
    "])\n",
    "\n",
    "time_transformer = Pipeline(steps=[\n",
    "    (\"imputer\",SimpleImputer(strategy=\"most_frequent\")),\n",
    "    (\"extractor\",DatetimeFeatures(features_to_extract=[\"hour\",\"minute\"],format=\"mixed\")),\n",
    "    (\"scaler\",StandardScaler())\n",
    "])"
   ]
  },
  {
   "cell_type": "code",
   "execution_count": null,
   "id": "08b6b715-46a6-40a0-8f20-7c319bdca0f7",
   "metadata": {},
   "outputs": [],
   "source": [
    "preprocessor = ColumnTransformer(transformers=[\n",
    "    (\"num\",num_transformer,num_cols),\n",
    "    (\"cat\",cat_transformer,cat_cols),\n",
    "    (\"doj\",doj_transformer,[\"date_of_journey\"]),\n",
    "    (\"time\",time_transformer,[\"dep_time\",\"arrival_time\"])\n",
    "])\n",
    "\n",
    "preprocessor.fit_transform(X_train)"
   ]
  },
  {
   "cell_type": "markdown",
   "id": "9c6bfd90-b08d-4449-9c8c-23c59b7bcf5c",
   "metadata": {},
   "source": [
    "## 5. Model Selection"
   ]
  },
  {
   "cell_type": "code",
   "execution_count": null,
   "id": "0cc8a7f2-ccee-4b72-9827-8aee19d4af1f",
   "metadata": {},
   "outputs": [],
   "source": [
    "algorithms = {\n",
    "    \"Linear Regression\" : LinearRegression(),\n",
    "    \"Support Vector Machine\" : SVR(),\n",
    "    \"Random Forest\" : RandomForestRegressor(n_estimators=10),\n",
    "    \"XG Boost\" : XGBRegressor(n_estimators=10)\n",
    "}"
   ]
  },
  {
   "cell_type": "code",
   "execution_count": null,
   "id": "7eb9c3ec-cf33-441f-b086-9562f2377cc1",
   "metadata": {},
   "outputs": [],
   "source": [
    "data = pd.concat([train_df,val_df],axis=0)\n",
    "X_data,y_data = split_data(data)\n",
    "print(X_data.shape,y_data.shape)"
   ]
  },
  {
   "cell_type": "code",
   "execution_count": null,
   "id": "1a28599c-a94c-4092-af8e-68dc774b7806",
   "metadata": {},
   "outputs": [],
   "source": [
    "def plot_curves(sizes,mean_scores,std_scores,label,ax):\n",
    "    ax.plot(\n",
    "        sizes,\n",
    "        mean_scores,\n",
    "        marker=\"o\",\n",
    "        label=label\n",
    "    )\n",
    "    \n",
    "    ax.fill_between(\n",
    "        x = sizes,\n",
    "        y1 = mean_scores - std_scores,\n",
    "        y2 = mean_scores + std_scores,\n",
    "        alpha = 0.5\n",
    "    )"
   ]
  },
  {
   "cell_type": "code",
   "execution_count": null,
   "id": "8101d344-4eec-4198-9867-cbd9f5352f5e",
   "metadata": {},
   "outputs": [],
   "source": [
    "def plot_learning_curves(name,algorithm,figsize=(12,4)):\n",
    "    model = Pipeline(steps=[\n",
    "        (\"pre\",preprocessor),\n",
    "        (\"alg\",algorithm)\n",
    "    ])\n",
    "    \n",
    "    train_sizes,train_scores,test_scores = learning_curve(\n",
    "        estimator = model,\n",
    "        X = X_data,\n",
    "        y = y_data,\n",
    "        cv = 3,\n",
    "        scoring = \"r2\",\n",
    "        n_jobs = -1,\n",
    "        random_state = 42\n",
    "    )\n",
    "    \n",
    "    mean_train_scores = np.mean(train_scores,axis=1)\n",
    "    std_train_scores = np.std(train_scores,axis=1)\n",
    "    train_score = f\"{mean_train_scores[-1]:.2f} +/- {std_train_scores[-1]:.2f}\"\n",
    "    \n",
    "    mean_test_scores = np.mean(test_scores,axis=1)\n",
    "    std_test_scores = np.std(test_scores,axis=1)\n",
    "    test_score = f\"{mean_test_scores[-1]:.2f} +/- {std_test_scores[-1]:.2f}\"\n",
    "    \n",
    "    fig,ax = plt.subplots(figsize=figsize)\n",
    "    \n",
    "    # training curve\n",
    "    plot_curves(\n",
    "        train_sizes,\n",
    "        mean_train_scores,\n",
    "        std_train_scores,\n",
    "        f\"Train ({train_score})\",\n",
    "        ax\n",
    "    )\n",
    "    \n",
    "    plot_curves(\n",
    "        train_sizes,\n",
    "        mean_test_scores,\n",
    "        std_test_scores,\n",
    "        f\"Test ({test_score})\",\n",
    "        ax\n",
    "    )\n",
    "    \n",
    "    ax.set(xlabel=\"Training Set Size\",ylabel=\"R-square\",title=name)\n",
    "    ax.legend(loc=\"lower right\")\n",
    "    plt.show()"
   ]
  },
  {
   "cell_type": "code",
   "execution_count": null,
   "id": "a86dcf6d-04ce-4403-8cf0-39913f9a70de",
   "metadata": {},
   "outputs": [],
   "source": [
    "for name,alg in algorithms.items():\n",
    "    plot_learning_curves(name,alg)"
   ]
  },
  {
   "cell_type": "markdown",
   "id": "09907e78-c773-4873-b7fa-35e0735e624e",
   "metadata": {},
   "source": [
    "## 6. Model Training"
   ]
  },
  {
   "cell_type": "code",
   "execution_count": null,
   "id": "855b820e-291f-4c6d-9a11-4e2f2a45f259",
   "metadata": {},
   "outputs": [],
   "source": [
    "model = Pipeline(steps=[\n",
    "    (\"pre\",preprocessor),\n",
    "    (\"rf\",RandomForestRegressor(n_estimators=10))\n",
    "])"
   ]
  },
  {
   "cell_type": "code",
   "execution_count": null,
   "id": "0debcb01-b223-4b69-a23a-cedc61125748",
   "metadata": {},
   "outputs": [],
   "source": [
    "model.fit(X_data,y_data)"
   ]
  },
  {
   "cell_type": "markdown",
   "id": "f6bd7111-f972-45fc-85f5-36bca46460eb",
   "metadata": {},
   "source": [
    "## 7. Model Evaluation"
   ]
  },
  {
   "cell_type": "code",
   "execution_count": null,
   "id": "3ccf4463-feba-49b3-a26c-e17c38cfb765",
   "metadata": {},
   "outputs": [],
   "source": [
    "def evaluate_model(X,y):\n",
    "    y_pred = model.predict(X)\n",
    "    return r2_score(y,y_pred)"
   ]
  },
  {
   "cell_type": "code",
   "execution_count": null,
   "id": "761ca5da-20df-4da0-969d-4e71f7ced9cd",
   "metadata": {},
   "outputs": [],
   "source": [
    "print(f\"R2 score on training data is = {evaluate_model(X_data,y_data)}\")"
   ]
  },
  {
   "cell_type": "code",
   "execution_count": null,
   "id": "e67216b9-d67d-4faf-b662-e850024d4500",
   "metadata": {},
   "outputs": [],
   "source": [
    "print(f\"R2 score on testing data is = {evaluate_model(X_test,y_test)}\")"
   ]
  },
  {
   "cell_type": "markdown",
   "id": "c7fbd8bf-8f07-42ac-982a-832e73e1e3fc",
   "metadata": {},
   "source": [
    "## 8. Model Persistence"
   ]
  },
  {
   "cell_type": "code",
   "execution_count": null,
   "id": "453b8334-08e9-4b04-8fae-0ac49b6b6da3",
   "metadata": {},
   "outputs": [],
   "source": [
    "joblib.dump(model,\"model.joblib\")"
   ]
  },
  {
   "cell_type": "code",
   "execution_count": null,
   "id": "c9306164-604c-468a-98dc-3526ad620430",
   "metadata": {
    "scrolled": true
   },
   "outputs": [],
   "source": [
    "saved_model = joblib.load(\"model.joblib\")\n",
    "saved_model"
   ]
  },
  {
   "cell_type": "code",
   "execution_count": null,
   "id": "047133f1-b81e-4749-8262-41b106423c54",
   "metadata": {},
   "outputs": [],
   "source": [
    "y_pred = saved_model.predict(X_test)"
   ]
  },
  {
   "cell_type": "code",
   "execution_count": null,
   "id": "4b509542-9165-432e-b41d-7e4a1f4c26d6",
   "metadata": {},
   "outputs": [],
   "source": [
    "r2_score(y_test,y_pred)"
   ]
  }
 ],
 "metadata": {
  "kernelspec": {
   "display_name": "Python 3 (ipykernel)",
   "language": "python",
   "name": "python3"
  },
  "language_info": {
   "codemirror_mode": {
    "name": "ipython",
    "version": 3
   },
   "file_extension": ".py",
   "mimetype": "text/x-python",
   "name": "python",
   "nbconvert_exporter": "python",
   "pygments_lexer": "ipython3",
   "version": "3.12.1"
  }
 },
 "nbformat": 4,
 "nbformat_minor": 5
}
